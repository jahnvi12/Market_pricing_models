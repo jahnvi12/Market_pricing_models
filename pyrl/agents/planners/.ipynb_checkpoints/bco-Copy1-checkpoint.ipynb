{
 "cells": [
  {
   "cell_type": "code",
   "execution_count": 1,
   "metadata": {},
   "outputs": [],
   "source": [
    "from tqdm import tqdm_notebook as tqdm\n",
    "import numpy as np"
   ]
  },
  {
   "cell_type": "code",
   "execution_count": 2,
   "metadata": {},
   "outputs": [],
   "source": [
    "import torch as T\n",
    "import torch.nn as nn\n",
    "\n",
    "bids = [2,5]\n",
    "d = [0.684511335,0.64412269,0.61306915,0.599733283,0.588874071,0.59801867,0.626786054,0.651743189,0.706039246,0.787007049,0.839016956,0.852733854,0.870642027,0.834254144,0.816536483,0.81939417,0.874071252,1,0.983615927,0.936368832,0.887597638,0.809297009,0.745856354,0.733473042484283,0.784511335,0.74412269,0.713069156,0.699733283,0.688874071,0.69801867,0.726786054,0.751743189,0.806039246,0.837007049,0.889016956,0.902733854,0.920642027,0.884254144,0.866536483,0.86939417,0.924071252,0.95,1,0.986368832,0.937597638,0.859297009,0.745856354,0.8334730421,0.854511335,0.81412269,0.783069156,0.769733283,0.758874071,0.76801867,0.796786054,0.821743189,0.876039246,0.907007049,0.959016956,0.972733854,0.990642027,0.954254144,0.936536483,0.93939417,0.994071252,1,1,1,1,0.929297009,0.815856354,0.903473042,0.754511335,0.71412269,0.683069156,0.669733283,0.658874071,0.66801867,0.696786054,0.721743189,0.776039246,0.807007049,0.859016956,0.872733854,0.890642027,0.854254144,0.836536483,0.83939417,0.894071252,0.9,0.9,1,0.989,0.829297009,0.715856354,0.803473042,0.819511335,0.77912269,0.748069156,0.734733283,0.723874071,0.73301867,0.761786054,0.786743189,0.841039246,0.872007049,0.924016956,0.937733854,0.955642027,0.919254144,0.901536483,0.90439417,0.959071252,0.965,1,0.989,0.976,0.929297009,0.815856354,0.903473042,0.799511335,0.75912269,0.728069156,0.714733283,0.703874071,0.71301867,0.741786054,0.766743189,0.821039246,0.852007049,0.904016956,0.917733854,0.935642027,0.899254144,0.881536483,0.88439417,0.939071252,0.945,0.98,0.969,0.956,0.909297009,0.795856354,0.883473042,0.759511335,0.71912269,0.688069156,0.674733283,0.663874071,0.67301867,0.701786054,0.726743189,0.781039246,0.812007049,0.864016956,0.877733854,0.895642027,0.909254144,0.891536483,0.89439417,0.949071252,0.955,1,0.979,0.966,0.869297009,0.755856354,0.843473042,0.789511335,0.74912269,0.718069156,0.704733283,0.693874071,0.70301867,0.731786054,0.756743189,0.811039246,0.842007049,0.894016956,0.907733854,0.925642027,0.939254144,0.921536483,0.92439417,0.979071252,0.985,1,1,0.996,0.899297009,0.785856354,0.873473042,0.719511335,0.67912269,0.648069156,0.634733283,0.623874071,0.63301867,0.661786054,0.686743189,0.741039246,0.772007049,0.824016956,0.837733854,0.855642027,0.869254144,0.851536483,0.85439417,0.909071252,0.915,0.93,0.93,0.926,0.829297009,0.715856354,0.803473042,0.739511335,0.69912269,0.668069156,0.654733283,0.643874071,0.65301867,0.681786054,0.706743189,0.761039246,0.842007049,0.894016956,0.907733854,0.925642027,0.939254144,0.921536483,0.92439417,0.979071252,0.985,1,1,0.996,0.899297009,0.785856354,0.873473042,0.709511335,0.66912269,0.638069156,0.624733283,0.613874071,0.62301867,0.651786054,0.676743189,0.731039246,0.812007049,0.864016956,0.877733854,0.895642027,0.909254144,0.891536483,0.89439417,0.949071252,0.955,0.97,0.97,0.966,0.869297009,0.755856354,0.843473042,0.719511335,0.67912269,0.648069156,0.634733283,0.623874071,0.63301867,0.661786054,0.686743189,0.781039246,0.862007049,0.914016956,0.927733854,0.945642027,0.939254144,0.921536483,0.92439417,0.979071252,0.985,1,1,0.996,0.899297009,0.785856354,0.873473042,0.669511335,0.62912269,0.598069156,0.584733283,0.573874071,0.58301867,0.611786054,0.636743189,0.731039246,0.812007049,0.934016956,0.947733854,0.965642027,0.959254144,0.941536483,0.94439417,1,1,1,1,1,0.919297009,0.805856354,0.893473042,0.719511335,0.67912269,0.648069156,0.634733283,0.623874071,0.63301867,0.661786054,0.686743189,0.741039246,0.772007049,0.824016956,0.837733854,0.855642027,0.869254144,0.851536483,0.85439417,0.909071252,0.915,0.93,0.93,0.926,0.829297009,0.715856354,0.803473042,0.739511335,0.69912269,0.668069156,0.654733283,0.643874071,0.65301867,0.681786054,0.706743189,0.761039246,0.842007049,0.894016956,0.907733854,0.925642027,0.939254144,0.921536483,0.92439417,0.979071252,0.985,1,1,0.996,0.899297009,0.785856354,0.873473042,0.719511335,0.67912269,0.648069156,0.634733283,0.623874071,0.63301867,0.661786054,0.686743189,0.741039246,0.772007049,0.824016956,0.837733854,0.855642027,0.869254144,0.851536483,0.85439417,0.909071252,1,1,1,0.956,0.829297009,0.715856354,0.803473042,0.739511335,0.69912269,0.668069156,0.654733283,0.643874071,0.65301867,0.681786054,0.706743189,0.761039246,0.792007049,0.844016956,0.857733854,0.875642027,0.889254144,0.871536483,0.87439417,0.929071252,0.98,1,0.98,0.976,0.849297009,0.735856354,0.823473042,0.639511335,0.59912269,0.568069156,0.554733283,0.543874071,0.55301867,0.581786054,0.606743189,0.661039246,0.692007049,0.744016956,0.757733854,0.775642027,0.789254144,0.771536483,0.77439417,0.829071252,0.929071252,0.959071252,0.989071252,0.771536483,0.77439417,0.829071252,0.859071252,0.719511335,0.67912269,0.648069156,0.634733283,0.623874071,0.63301867,0.661786054,0.686743189,0.741039246,0.772007049,0.824016956,0.837733854,0.855642027,0.869254144,0.85153648,0.85439417,0.909071252,1,1,0.976,0.851536483,0.85439417,0.909071252,0.939071252,0.749511335,0.70912269,0.678069156,0.664733283,0.653874071,0.66301867,0.691786054,0.716743189,0.771039246,0.802007049,0.854016956,0.867733854,0.885642027,0.899254144,0.881536483,0.88439417,0.939071252,0.978,0.998,1,0.881536483,0.88439417,0.939071252,0.969071252,0.709511335,0.66912269,0.638069156,0.624733283,0.613874071,0.62301867,0.651786054,0.676743189,0.731039246,0.762007049,0.814016956,0.827733854,0.845642027,0.859254144,0.841536483,0.84439417,0.899071252,0.938,0.958,0.96,0.841536483,0.84439417,0.899071252,0.929071252,0.689511335,0.64912269,0.618069156,0.604733283,0.593874071,0.60301867,0.631786054,0.656743189,0.711039246,0.742007049,0.794016956,0.807733854,0.825642027,0.839254144,0.821536483,0.84439417,0.899071252,0.938,0.958,0.96,0.841536483,0.84439417,0.899071252,0.929071252,0.719511335,0.67912269,0.648069156,0.634733283,0.623874071,0.63301867,0.661786054,0.686743189,0.741039246,0.772007049,0.824016956,0.837733854,0.855642027,0.869254144,0.851536483,0.87439417,0.929071252,0.968,1,0.99,0.871536483,0.87439417,0.929071252,0.959071252,0.739511335,0.69912269,0.668069156,0.654733283,0.643874071,0.65301867,0.681786054,0.706743189,0.761039246,0.792007049,0.844016956,0.857733854,0.875642027,0.889254144,0.871536483,0.89439417,0.949071252,0.988,1,1,0.891536483,0.89439417,0.949071252,0.979071252,0.669511335,0.62912269,0.598069156,0.584733283,0.573874071,0.58301867,0.611786054,0.636743189,0.691039246,0.722007049,0.774016956,0.787733854,0.805642027,0.819254144,0.801536483,0.82439417,0.949071252,0.988,1,1,0.891536483,0.89439417,0.949071252,0.979071252,0.699511335,0.65912269,0.628069156,0.614733283,0.603874071,0.61301867,0.641786054,0.666743189,0.721039246,0.752007049,0.804016956,0.817733854,0.835642027,0.849254144,0.831536483,0.85439417,0.979071252,0.998,1,0.987,0.921536483,0.92439417,0.979071252,1.009071252,0.709511335,0.66912269,0.638069156,0.624733283,0.613874071,0.62301867,0.651786054,0.676743189,0.731039246,0.762007049,0.814016956,0.827733854,0.845642027,0.859254144,0.841536483,0.86439417,1,0.998,1,0.987,0.921536483,0.92439417,0.979071252,1.009071252,0.739511335,0.69912269,0.668069156,0.654733283,0.643874071,0.65301867,0.681786054,0.706743189,0.761039246,0.792007049,0.844016956,0.857733854,0.875642027,0.889254144,0.871536483,0.89439417,1.03,1.028,1.03,1.017,0.951536483,0.95439417,1.009071252,1.039071252,0.739511335,0.69912269,0.668069156,0.654733283,0.643874071,0.65301867,0.681786054,0.706743189,0.761039246,0.792007049,0.844016956,0.857733854,0.875642027,0.889254144,0.871536483,0.87439417,0.929071252,0.98,1,0.98,0.976,0.849297009,0.735856354,0.823473042,0.709511335,0.66912269,0.638069156,0.624733283,0.613874071,0.62301867,0.651786054,0.676743189,0.731039246,0.762007049,0.814016956,0.827733854,0.845642027,0.859254144,0.841536483,0.84439417,0.899071252,0.938,0.958,0.96,0.841536483,0.84439417,0.899071252,0.929071252]\n",
    "\n",
    "bid1 = []\n",
    "bid2 = []\n",
    "for day in range(30):\n",
    "    for hour in range(24):\n",
    "        bid1 += [[day+1,hour+1]]\n",
    "        next_day, next_hour = day+1, hour+2\n",
    "        if next_hour > 24:\n",
    "            next_hour = 1\n",
    "            next_day += 1\n",
    "        bid2 += [[next_day, next_hour]]\n",
    "\n",
    "bid2[719] = [1,1]\n",
    "\n",
    "inv_action_mapping = {}\n",
    "action_mapping = {}\n",
    "b1 = 1.0\n",
    "numActions = 0\n",
    "while b1 <= 5:\n",
    "    b2 = 1.0\n",
    "    while b2 <= 5:\n",
    "        b2+=0.5\n",
    "        inv_action_mapping[tuple([b1,b2])] = numActions\n",
    "        action_mapping[numActions] = [b1,b2]\n",
    "        numActions += 1\n",
    "    b1+=0.5\n",
    "\n",
    "actions = []\n",
    "for i in range(720):\n",
    "\tactions += [inv_action_mapping[tuple([round(2*d[i]*2)/2,round(5*d[i]*2)/2])]]\n",
    "trajs = []\n",
    "traj = []\n",
    "for i in range(720):\n",
    "\ttraj += [[np.array(bid1[i]), actions[i], np.array(bid2[i])]]\n",
    "\n",
    "trajs += [traj]\n"
   ]
  },
  {
   "cell_type": "code",
   "execution_count": 3,
   "metadata": {},
   "outputs": [],
   "source": [
    "class BCO(nn.Module):\n",
    "    def __init__(self, policy='mlp'):\n",
    "        super(BCO, self).__init__()\n",
    "        \n",
    "        self.policy = policy\n",
    "        self.act_n = numActions\n",
    "        \n",
    "        if self.policy=='mlp':\n",
    "            self.obs_n = 2\n",
    "            self.pol = nn.Sequential(*[nn.Linear(self.obs_n, 64), nn.LeakyReLU(), \n",
    "                                       nn.Linear(64, 64), nn.LeakyReLU(), \n",
    "                                       nn.Linear(64, self.act_n)])\n",
    "            self.inv = nn.Sequential(*[nn.Linear(self.obs_n*2, 64), nn.LeakyReLU(), \n",
    "                                       nn.Linear(64, 64), nn.LeakyReLU(),  \n",
    "                                       nn.Linear(64, self.act_n)])\n",
    "        \n",
    "        elif self.policy=='cnn':\n",
    "            pass\n",
    "    \n",
    "    def pred_act(self, obs):\n",
    "        out = self.pol(obs)\n",
    "        \n",
    "        return out\n",
    "    \n",
    "    def pred_inv(self, obs1, obs2):\n",
    "        obs = T.cat([obs1, obs2], dim=1)\n",
    "        out = self.inv(obs)\n",
    "        \n",
    "        return out\n",
    "\n",
    "POLICY = 'mlp'\n",
    "model = BCO(policy=POLICY)"
   ]
  },
  {
   "cell_type": "code",
   "execution_count": 4,
   "metadata": {},
   "outputs": [],
   "source": [
    "from torch.utils.data import Dataset, DataLoader\n",
    "\n",
    "class DS_Inv(Dataset):\n",
    "    def __init__(self, trajs):\n",
    "        self.dat = []\n",
    "        \n",
    "        for traj in trajs:\n",
    "            for dat in traj:\n",
    "                obs, act, new_obs = dat\n",
    "                \n",
    "                self.dat.append([obs, new_obs, act])\n",
    "    \n",
    "    def __len__(self):\n",
    "        return len(self.dat)\n",
    "    \n",
    "    def __getitem__(self, idx):\n",
    "        obs, new_obs, act = self.dat[idx]\n",
    "        \n",
    "        return obs, new_obs, np.asarray(act)\n",
    "\n",
    "class DS_Policy(Dataset):\n",
    "    def __init__(self, traj):\n",
    "        self.dat = []\n",
    "        \n",
    "        for dat in traj:\n",
    "            obs, act = dat\n",
    "                \n",
    "            self.dat.append([obs, act])\n",
    "    \n",
    "    def __len__(self):\n",
    "        return len(self.dat)\n",
    "    \n",
    "    def __getitem__(self, idx):\n",
    "        obs, act = self.dat[idx]\n",
    "        \n",
    "        return obs, np.asarray(act)"
   ]
  },
  {
   "cell_type": "code",
   "execution_count": 5,
   "metadata": {},
   "outputs": [
    {
     "name": "stdout",
     "output_type": "stream",
     "text": [
      "9\n",
      "torch.Size([80, 2]) torch.Size([80, 2])\n"
     ]
    }
   ],
   "source": [
    "import pickle\n",
    "\n",
    "ld_demo = DataLoader(DS_Inv(trajs), batch_size=80)\n",
    "\n",
    "print(len(ld_demo))\n",
    "for obs1, obs2, _ in ld_demo:\n",
    "    print(obs1.shape, obs2.shape)\n",
    "    \n",
    "    break"
   ]
  },
  {
   "cell_type": "code",
   "execution_count": 6,
   "metadata": {},
   "outputs": [],
   "source": [
    "loss_func = nn.CrossEntropyLoss()\n",
    "optim = T.optim.Adam(model.parameters(), lr=5e-2)\n",
    "\n",
    "EPOCHS = 20\n",
    "M = 5000\n",
    "\n",
    "EPS = 0.9\n",
    "DECAY = 0.9"
   ]
  },
  {
   "cell_type": "code",
   "execution_count": 7,
   "metadata": {
    "scrolled": true
   },
   "outputs": [
    {
     "name": "stdout",
     "output_type": "stream",
     "text": [
      "[[ 0.14499748  0.0810744  -0.06324126 -0.05878101  0.12293704 -0.05273941\n",
      "  -0.00762255 -0.01582264  0.01725517  0.25099057 -0.25121066  0.11669259\n",
      "  -0.0722721   0.11349721 -0.16540349  0.02484883  0.17426786  0.08588628\n",
      "   0.05613133 -0.15295337  0.30341002 -0.2520714   0.12699912  0.10358879\n",
      "   0.1940512   0.3723969   0.18222137  0.14183159  0.19779877 -0.15641084\n",
      "  -0.3144433  -0.10387282  0.15193383 -0.27566817 -0.00378227 -0.20479715\n",
      "   0.13330807  0.06961093  0.09166659  0.13166142  0.06547748  0.00269328\n",
      "   0.01628049  0.23414266 -0.12795861 -0.02528924  0.06967005 -0.00374416\n",
      "  -0.07806891  0.07920369 -0.06197965  0.13206711  0.39159143  0.01186827\n",
      "  -0.07460836  0.02672365 -0.06047607 -0.03576504  0.17821375  0.03019234\n",
      "   0.05407288 -0.16167834  0.3556114   0.0956614   0.23356459 -0.1001512\n",
      "   0.05522478  0.19811921  0.27720442  0.29552084  0.09656294 -0.0129303\n",
      "  -0.01985243  0.0077574  -0.26807374 -0.30945462  0.04860936  0.23239669\n",
      "  -0.02109106 -0.03086229  0.01951632]]\n"
     ]
    }
   ],
   "source": [
    "obs = np.array([1,1])\n",
    "inp = T.from_numpy(obs).view(((1, )+obs.shape)).float()\n",
    "out = model.pred_act(inp).cpu().detach().numpy()\n",
    "print(out)"
   ]
  },
  {
   "cell_type": "code",
   "execution_count": 8,
   "metadata": {},
   "outputs": [],
   "source": [
    "import julia\n",
    "j = julia.Julia(compiled_modules=False)\n",
    "julia_model = j.include(\"power_model.jl\")"
   ]
  },
  {
   "cell_type": "code",
   "execution_count": 9,
   "metadata": {},
   "outputs": [],
   "source": [
    "def step(state, action):\n",
    "    prev_ts = (state[0]-1)*24 + state[1]\n",
    "    rewards = julia_model(action_mapping[action][0], action_mapping[action][1],prev_ts)\n",
    "    #         rewards_n = (rewards-np.average(rewards))\n",
    "    #         rewards_n /= np.std(rewards_n)\n",
    "    #         reward = rewards_n[0]\n",
    "    cur_ts = prev_ts + 1\n",
    "    done = False\n",
    "    next_day, next_hour = state[0], state[1]+1\n",
    "    if next_hour > 24:\n",
    "        next_hour = 1\n",
    "        next_day += 1\n",
    "    newState = np.array([next_day, next_hour])\n",
    "    #         print('==== Step ====', state, action, rewards_n, newState)\n",
    "\n",
    "    if cur_ts == 720:\n",
    "        done = True\n",
    "    return newState,rewards[0], done\n",
    "\n",
    "import random, time\n",
    "random.seed(time.clock())\n",
    "def sample_action():\n",
    "    return np.random.randint(numActions)\n",
    "\n",
    "def reset():\n",
    "    return np.array([1,1])\n",
    "#     return np.array([np.random.randint(720)+1])"
   ]
  },
  {
   "cell_type": "code",
   "execution_count": 12,
   "metadata": {},
   "outputs": [
    {
     "name": "stdout",
     "output_type": "stream",
     "text": [
      "[0.05890571 0.04163335 0.03976949 0.05422462 0.05806866 0.0624467 ]\n"
     ]
    }
   ],
   "source": [
    "print(julia_model(1,1,1))"
   ]
  },
  {
   "cell_type": "code",
   "execution_count": 11,
   "metadata": {
    "scrolled": true
   },
   "outputs": [
    {
     "data": {
      "application/vnd.jupyter.widget-view+json": {
       "model_id": "e92194e3174d406783927d48f781309a",
       "version_major": 2,
       "version_minor": 0
      },
      "text/plain": [
       "HBox(children=(IntProgress(value=0, max=20), HTML(value='')))"
      ]
     },
     "metadata": {},
     "output_type": "display_data"
    },
    {
     "name": "stdout",
     "output_type": "stream",
     "text": [
      "\n"
     ]
    },
    {
     "ename": "ValueError",
     "evalue": "Julia exception: ArgumentError: invalid index: PyObject 1 of type PyObject\nStacktrace:\n [1] to_index(::PyObject) at ./indices.jl:270\n [2] to_index(::Array{Float64,1}, ::PyObject) at ./indices.jl:247\n [3] to_indices at ./indices.jl:298 [inlined]\n [4] to_indices at ./indices.jl:295 [inlined]\n [5] getindex at ./abstractarray.jl:981 [inlined]\n [6] macro expansion at /home/jahnvi/.julia/packages/JuMP/MsUSY/src/macros.jl:978 [inlined]\n [7] predict(::Float64, ::Float64, ::PyObject) at /home/jahnvi/python-rl/pyrl/agents/planners/power_model.jl:78\n [8] #invokelatest#1(::Base.Iterators.Pairs{Union{},Union{},Tuple{},NamedTuple{(),Tuple{}}}, ::typeof(Base.invokelatest), ::Any, ::Any, ::Vararg{Any,N} where N) at ./essentials.jl:790\n [9] invokelatest(::Any, ::Any, ::Vararg{Any,N} where N) at ./essentials.jl:789\n [10] _pyjlwrap_call(::Function, ::Ptr{PyCall.PyObject_struct}, ::Ptr{PyCall.PyObject_struct}) at /home/jahnvi/.julia/packages/PyCall/ttONZ/src/callback.jl:28\n [11] pyjlwrap_call(::Ptr{PyCall.PyObject_struct}, ::Ptr{PyCall.PyObject_struct}, ::Ptr{PyCall.PyObject_struct}) at /home/jahnvi/.julia/packages/PyCall/ttONZ/src/callback.jl:49",
     "output_type": "error",
     "traceback": [
      "\u001b[0;31m---------------------------------------------------------------------------\u001b[0m",
      "\u001b[0;31mValueError\u001b[0m                                Traceback (most recent call last)",
      "\u001b[0;32m<ipython-input-11-d2f40e12c058>\u001b[0m in \u001b[0;36m<module>\u001b[0;34m()\u001b[0m\n\u001b[1;32m     27\u001b[0m \u001b[0;31m#             print(obs, act, explore,EPS)\u001b[0m\u001b[0;34m\u001b[0m\u001b[0;34m\u001b[0m\u001b[0;34m\u001b[0m\u001b[0m\n\u001b[1;32m     28\u001b[0m \u001b[0;34m\u001b[0m\u001b[0m\n\u001b[0;32m---> 29\u001b[0;31m             \u001b[0mnew_obs\u001b[0m\u001b[0;34m,\u001b[0m \u001b[0mr\u001b[0m\u001b[0;34m,\u001b[0m \u001b[0mdone\u001b[0m \u001b[0;34m=\u001b[0m \u001b[0mstep\u001b[0m\u001b[0;34m(\u001b[0m\u001b[0mobs\u001b[0m\u001b[0;34m,\u001b[0m\u001b[0mact\u001b[0m\u001b[0;34m)\u001b[0m\u001b[0;34m\u001b[0m\u001b[0;34m\u001b[0m\u001b[0m\n\u001b[0m\u001b[1;32m     30\u001b[0m \u001b[0;34m\u001b[0m\u001b[0m\n\u001b[1;32m     31\u001b[0m             \u001b[0mtraj\u001b[0m\u001b[0;34m.\u001b[0m\u001b[0mappend\u001b[0m\u001b[0;34m(\u001b[0m\u001b[0;34m[\u001b[0m\u001b[0mobs\u001b[0m\u001b[0;34m,\u001b[0m \u001b[0mact\u001b[0m\u001b[0;34m,\u001b[0m \u001b[0mnew_obs\u001b[0m\u001b[0;34m]\u001b[0m\u001b[0;34m)\u001b[0m\u001b[0;34m\u001b[0m\u001b[0;34m\u001b[0m\u001b[0m\n",
      "\u001b[0;32m<ipython-input-9-8cba112bbd5f>\u001b[0m in \u001b[0;36mstep\u001b[0;34m(state, action)\u001b[0m\n\u001b[1;32m      1\u001b[0m \u001b[0;32mdef\u001b[0m \u001b[0mstep\u001b[0m\u001b[0;34m(\u001b[0m\u001b[0mstate\u001b[0m\u001b[0;34m,\u001b[0m \u001b[0maction\u001b[0m\u001b[0;34m)\u001b[0m\u001b[0;34m:\u001b[0m\u001b[0;34m\u001b[0m\u001b[0;34m\u001b[0m\u001b[0m\n\u001b[1;32m      2\u001b[0m     \u001b[0mprev_ts\u001b[0m \u001b[0;34m=\u001b[0m \u001b[0;34m(\u001b[0m\u001b[0mstate\u001b[0m\u001b[0;34m[\u001b[0m\u001b[0;36m0\u001b[0m\u001b[0;34m]\u001b[0m\u001b[0;34m-\u001b[0m\u001b[0;36m1\u001b[0m\u001b[0;34m)\u001b[0m\u001b[0;34m*\u001b[0m\u001b[0;36m24\u001b[0m \u001b[0;34m+\u001b[0m \u001b[0mstate\u001b[0m\u001b[0;34m[\u001b[0m\u001b[0;36m1\u001b[0m\u001b[0;34m]\u001b[0m\u001b[0;34m\u001b[0m\u001b[0;34m\u001b[0m\u001b[0m\n\u001b[0;32m----> 3\u001b[0;31m     \u001b[0mrewards\u001b[0m \u001b[0;34m=\u001b[0m \u001b[0mjulia_model\u001b[0m\u001b[0;34m(\u001b[0m\u001b[0maction_mapping\u001b[0m\u001b[0;34m[\u001b[0m\u001b[0maction\u001b[0m\u001b[0;34m]\u001b[0m\u001b[0;34m[\u001b[0m\u001b[0;36m0\u001b[0m\u001b[0;34m]\u001b[0m\u001b[0;34m,\u001b[0m \u001b[0maction_mapping\u001b[0m\u001b[0;34m[\u001b[0m\u001b[0maction\u001b[0m\u001b[0;34m]\u001b[0m\u001b[0;34m[\u001b[0m\u001b[0;36m1\u001b[0m\u001b[0;34m]\u001b[0m\u001b[0;34m,\u001b[0m\u001b[0mprev_ts\u001b[0m\u001b[0;34m)\u001b[0m\u001b[0;34m\u001b[0m\u001b[0;34m\u001b[0m\u001b[0m\n\u001b[0m\u001b[1;32m      4\u001b[0m     \u001b[0;31m#         rewards_n = (rewards-np.average(rewards))\u001b[0m\u001b[0;34m\u001b[0m\u001b[0;34m\u001b[0m\u001b[0;34m\u001b[0m\u001b[0m\n\u001b[1;32m      5\u001b[0m     \u001b[0;31m#         rewards_n /= np.std(rewards_n)\u001b[0m\u001b[0;34m\u001b[0m\u001b[0;34m\u001b[0m\u001b[0;34m\u001b[0m\u001b[0m\n",
      "\u001b[0;31mValueError\u001b[0m: Julia exception: ArgumentError: invalid index: PyObject 1 of type PyObject\nStacktrace:\n [1] to_index(::PyObject) at ./indices.jl:270\n [2] to_index(::Array{Float64,1}, ::PyObject) at ./indices.jl:247\n [3] to_indices at ./indices.jl:298 [inlined]\n [4] to_indices at ./indices.jl:295 [inlined]\n [5] getindex at ./abstractarray.jl:981 [inlined]\n [6] macro expansion at /home/jahnvi/.julia/packages/JuMP/MsUSY/src/macros.jl:978 [inlined]\n [7] predict(::Float64, ::Float64, ::PyObject) at /home/jahnvi/python-rl/pyrl/agents/planners/power_model.jl:78\n [8] #invokelatest#1(::Base.Iterators.Pairs{Union{},Union{},Tuple{},NamedTuple{(),Tuple{}}}, ::typeof(Base.invokelatest), ::Any, ::Any, ::Vararg{Any,N} where N) at ./essentials.jl:790\n [9] invokelatest(::Any, ::Any, ::Vararg{Any,N} where N) at ./essentials.jl:789\n [10] _pyjlwrap_call(::Function, ::Ptr{PyCall.PyObject_struct}, ::Ptr{PyCall.PyObject_struct}) at /home/jahnvi/.julia/packages/PyCall/ttONZ/src/callback.jl:28\n [11] pyjlwrap_call(::Ptr{PyCall.PyObject_struct}, ::Ptr{PyCall.PyObject_struct}, ::Ptr{PyCall.PyObject_struct}) at /home/jahnvi/.julia/packages/PyCall/ttONZ/src/callback.jl:49"
     ]
    }
   ],
   "source": [
    "trajs_inv = []\n",
    "bids = []\n",
    "\n",
    "for e in tqdm(range(EPOCHS)):\n",
    "    \n",
    "    # step1, generate inverse samples\n",
    "    cnt = 0\n",
    "    epn = 0\n",
    "    \n",
    "    rews = 0\n",
    "        \n",
    "    while True:\n",
    "        traj = []\n",
    "        rew = 0\n",
    "            \n",
    "        obs = reset()\n",
    "        while True:\n",
    "            inp = T.from_numpy(obs).view(((1, )+obs.shape)).float()\n",
    "            out = model.pred_act(inp).cpu().detach().numpy()\n",
    "            \n",
    "            explore = np.random.rand()\n",
    "            if explore>=EPS:\n",
    "                act = np.argmax(out)\n",
    "            else:\n",
    "                act = np.random.randint(numActions)\n",
    "            \n",
    "#             print(obs, act, explore,EPS)\n",
    "                \n",
    "            new_obs, r, done = step(obs,act)\n",
    "                \n",
    "            traj.append([obs, act, new_obs])\n",
    "            obs = new_obs\n",
    "            rew += r\n",
    "            \n",
    "            cnt += 1\n",
    "                \n",
    "            if done==True:\n",
    "                rews += rew\n",
    "                trajs_inv.append(traj)\n",
    "                \n",
    "                epn += 1\n",
    "                \n",
    "                break\n",
    "        \n",
    "        if cnt >= M:\n",
    "            break\n",
    "        print('Count ', cnt)\n",
    "        \n",
    "    rews /= epn\n",
    "    print('Ep %d: reward=%.2f' % (e+1, rews))\n",
    "    \n",
    "    test()\n",
    "        \n",
    "    # step2, update inverse model\n",
    "    ld_inv = DataLoader(DS_Inv(trajs_inv), batch_size=32, shuffle=True)\n",
    "#     print(ld_inv)\n",
    "    \n",
    "    with tqdm(ld_inv) as TQ:\n",
    "        ls_ep = 0\n",
    "        \n",
    "        for obs1, obs2, act in TQ:\n",
    "            out = model.pred_inv(obs1.float(), obs2.float())\n",
    "#             print(out, act)\n",
    "            ls_bh = loss_func(out, act)\n",
    "            \n",
    "            optim.zero_grad()\n",
    "            ls_bh.backward()\n",
    "            optim.step()\n",
    "            \n",
    "            ls_bh = ls_bh.cpu().detach().numpy()\n",
    "            TQ.set_postfix(loss_inv='%.3f' % (ls_bh))\n",
    "            ls_ep += ls_bh\n",
    "        \n",
    "        ls_ep /= len(TQ)\n",
    "        print('Ep %d: loss_inv=%.3f' % (e+1, ls_ep))\n",
    "    \n",
    "    # step3, predict inverse action for demo samples\n",
    "    traj_policy = []\n",
    "    \n",
    "    for obs1, obs2, _ in ld_demo:\n",
    "        out = model.pred_inv(obs1.float(), obs2.float())\n",
    "        \n",
    "        obs = obs1.cpu().detach().numpy()\n",
    "        out = out.cpu().detach().numpy()\n",
    "        out = np.argmax(out, axis=1)\n",
    "        \n",
    "        for i in range(80):\n",
    "            traj_policy.append([obs[i], out[i]])\n",
    "    \n",
    "    # step4, update policy via demo samples\n",
    "    ld_policy = DataLoader(DS_Policy(traj_policy), batch_size=32, shuffle=True)\n",
    "    \n",
    "    with tqdm(ld_policy) as TQ:\n",
    "        ls_ep = 0\n",
    "        \n",
    "        for obs, act in TQ:\n",
    "            out = model.pred_act(obs.float())\n",
    "#             print(out,act)\n",
    "            ls_bh = loss_func(out, act)\n",
    "            \n",
    "            optim.zero_grad()\n",
    "            ls_bh.backward()\n",
    "            optim.step()\n",
    "            \n",
    "            ls_bh = ls_bh.cpu().detach().numpy()\n",
    "            TQ.set_postfix(loss_policy='%.3f' % (ls_bh))\n",
    "            ls_ep += ls_bh\n",
    "        \n",
    "        ls_ep /= len(TQ)\n",
    "        print('Ep %d: loss_policy=%.3f' % (e+1, ls_ep))\n",
    "    \n",
    "    # step5, save model\n",
    "#     T.save(model.state_dict(), 'model_cart-pole_%d.pt' % (e+1))\n",
    "    \n",
    "    EPS *= DECAY"
   ]
  },
  {
   "cell_type": "code",
   "execution_count": 13,
   "metadata": {},
   "outputs": [],
   "source": [
    "def step_2(state, action):\n",
    "    prev_ts = (state[0]-1)*24 + state[1]\n",
    "    rewards = julia_model(action_mapping[action][0], action_mapping[action][1],prev_ts)\n",
    "    #         rewards_n = (rewards-np.average(rewards))\n",
    "    #         rewards_n /= np.std(rewards_n)\n",
    "    #         reward = rewards_n[0]\n",
    "    cur_ts = prev_ts + 1\n",
    "    done = False\n",
    "    next_day, next_hour = state[0], state[1]+1\n",
    "    if next_hour > 24:\n",
    "        next_hour = 1\n",
    "        next_day += 1\n",
    "    newState = np.array([next_day, next_hour])\n",
    "#         print('==== Step ====', state, action, rewards_n, newState)\n",
    "\n",
    "    if cur_ts == 720:\n",
    "        done = True\n",
    "    return newState,rewards, done"
   ]
  },
  {
   "cell_type": "code",
   "execution_count": 16,
   "metadata": {},
   "outputs": [],
   "source": [
    "def test():    \n",
    "    print('Testing starts ====== ')\n",
    "    state = reset()\n",
    "    state[0] = 1\n",
    "    rews = [0]*6\n",
    "    r = [[],[],[],[],[],[]]\n",
    "    while True:\n",
    "        inp = T.from_numpy(state).view(((1, )+state.shape)).float()\n",
    "        actions = model.pred_act(inp).cpu().detach().numpy()\n",
    "        action = np.argmax(actions)\n",
    "#         print(action_mapping[action])\n",
    "        state, rew, done = step_2(state, action)\n",
    "        for i in range(6):\n",
    "            rews[i]+= rew[i]\n",
    "            r[i] += [rews[i]]\n",
    "        if done:\n",
    "            break\n",
    "\n",
    "    print(rews,r)"
   ]
  },
  {
   "cell_type": "code",
   "execution_count": 15,
   "metadata": {},
   "outputs": [
    {
     "name": "stdout",
     "output_type": "stream",
     "text": [
      "Testing starts ====== \n"
     ]
    },
    {
     "ename": "KeyboardInterrupt",
     "evalue": "",
     "output_type": "error",
     "traceback": [
      "\u001b[0;31m---------------------------------------------------------------------------\u001b[0m",
      "\u001b[0;31mKeyboardInterrupt\u001b[0m                         Traceback (most recent call last)",
      "\u001b[0;32m<ipython-input-15-9f766b88abda>\u001b[0m in \u001b[0;36m<module>\u001b[0;34m()\u001b[0m\n\u001b[1;32m      9\u001b[0m \u001b[0;31m#     action = np.argmax(actions)\u001b[0m\u001b[0;34m\u001b[0m\u001b[0;34m\u001b[0m\u001b[0;34m\u001b[0m\u001b[0m\n\u001b[1;32m     10\u001b[0m \u001b[0;31m#         print(action_mapping[action])\u001b[0m\u001b[0;34m\u001b[0m\u001b[0;34m\u001b[0m\u001b[0;34m\u001b[0m\u001b[0m\n\u001b[0;32m---> 11\u001b[0;31m     \u001b[0mstate\u001b[0m\u001b[0;34m,\u001b[0m \u001b[0mrew\u001b[0m\u001b[0;34m,\u001b[0m \u001b[0mdone\u001b[0m \u001b[0;34m=\u001b[0m \u001b[0mstep_2\u001b[0m\u001b[0;34m(\u001b[0m\u001b[0mstate\u001b[0m\u001b[0;34m,\u001b[0m \u001b[0;36m0\u001b[0m\u001b[0;34m)\u001b[0m\u001b[0;34m\u001b[0m\u001b[0;34m\u001b[0m\u001b[0m\n\u001b[0m\u001b[1;32m     12\u001b[0m     \u001b[0;32mfor\u001b[0m \u001b[0mi\u001b[0m \u001b[0;32min\u001b[0m \u001b[0mrange\u001b[0m\u001b[0;34m(\u001b[0m\u001b[0;36m6\u001b[0m\u001b[0;34m)\u001b[0m\u001b[0;34m:\u001b[0m\u001b[0;34m\u001b[0m\u001b[0;34m\u001b[0m\u001b[0m\n\u001b[1;32m     13\u001b[0m         \u001b[0mrews\u001b[0m\u001b[0;34m[\u001b[0m\u001b[0mi\u001b[0m\u001b[0;34m]\u001b[0m\u001b[0;34m+=\u001b[0m \u001b[0mrew\u001b[0m\u001b[0;34m[\u001b[0m\u001b[0mi\u001b[0m\u001b[0;34m]\u001b[0m\u001b[0;34m\u001b[0m\u001b[0;34m\u001b[0m\u001b[0m\n",
      "\u001b[0;32m<ipython-input-13-53bb90bb39fa>\u001b[0m in \u001b[0;36mstep_2\u001b[0;34m(state, action)\u001b[0m\n\u001b[1;32m      1\u001b[0m \u001b[0;32mdef\u001b[0m \u001b[0mstep_2\u001b[0m\u001b[0;34m(\u001b[0m\u001b[0mstate\u001b[0m\u001b[0;34m,\u001b[0m \u001b[0maction\u001b[0m\u001b[0;34m)\u001b[0m\u001b[0;34m:\u001b[0m\u001b[0;34m\u001b[0m\u001b[0;34m\u001b[0m\u001b[0m\n\u001b[1;32m      2\u001b[0m     \u001b[0mprev_ts\u001b[0m \u001b[0;34m=\u001b[0m \u001b[0;34m(\u001b[0m\u001b[0mstate\u001b[0m\u001b[0;34m[\u001b[0m\u001b[0;36m0\u001b[0m\u001b[0;34m]\u001b[0m\u001b[0;34m-\u001b[0m\u001b[0;36m1\u001b[0m\u001b[0;34m)\u001b[0m\u001b[0;34m*\u001b[0m\u001b[0;36m24\u001b[0m \u001b[0;34m+\u001b[0m \u001b[0mstate\u001b[0m\u001b[0;34m[\u001b[0m\u001b[0;36m1\u001b[0m\u001b[0;34m]\u001b[0m\u001b[0;34m\u001b[0m\u001b[0;34m\u001b[0m\u001b[0m\n\u001b[0;32m----> 3\u001b[0;31m     \u001b[0mrewards\u001b[0m \u001b[0;34m=\u001b[0m \u001b[0mjulia_model\u001b[0m\u001b[0;34m(\u001b[0m\u001b[0maction_mapping\u001b[0m\u001b[0;34m[\u001b[0m\u001b[0maction\u001b[0m\u001b[0;34m]\u001b[0m\u001b[0;34m[\u001b[0m\u001b[0;36m0\u001b[0m\u001b[0;34m]\u001b[0m\u001b[0;34m,\u001b[0m \u001b[0maction_mapping\u001b[0m\u001b[0;34m[\u001b[0m\u001b[0maction\u001b[0m\u001b[0;34m]\u001b[0m\u001b[0;34m[\u001b[0m\u001b[0;36m1\u001b[0m\u001b[0;34m]\u001b[0m\u001b[0;34m,\u001b[0m\u001b[0mprev_ts\u001b[0m\u001b[0;34m)\u001b[0m\u001b[0;34m\u001b[0m\u001b[0;34m\u001b[0m\u001b[0m\n\u001b[0m\u001b[1;32m      4\u001b[0m     \u001b[0;31m#         rewards_n = (rewards-np.average(rewards))\u001b[0m\u001b[0;34m\u001b[0m\u001b[0;34m\u001b[0m\u001b[0;34m\u001b[0m\u001b[0m\n\u001b[1;32m      5\u001b[0m     \u001b[0;31m#         rewards_n /= np.std(rewards_n)\u001b[0m\u001b[0;34m\u001b[0m\u001b[0;34m\u001b[0m\u001b[0;34m\u001b[0m\u001b[0m\n",
      "\u001b[0;31mKeyboardInterrupt\u001b[0m: "
     ]
    }
   ],
   "source": [
    "print('Testing starts ====== ')\n",
    "state = reset()\n",
    "state[0] = 1\n",
    "rews = [0]*6\n",
    "r = [[],[],[],[],[],[]]\n",
    "while True:\n",
    "#     inp = T.from_numpy(state).view(((1, )+state.shape)).float()\n",
    "#     actions = model.pred_act(inp).cpu().detach().numpy()\n",
    "#     action = np.argmax(actions)\n",
    "#         print(action_mapping[action])\n",
    "    state, rew, done = step_2(state, 0)\n",
    "    for i in range(6):\n",
    "        rews[i]+= rew[i]\n",
    "        r[i] += [rews[i]]\n",
    "    if done:\n",
    "        break\n",
    "\n",
    "print(rews, r)\n"
   ]
  }
 ],
 "metadata": {
  "kernelspec": {
   "display_name": "Python 3",
   "language": "python",
   "name": "python3"
  },
  "language_info": {
   "codemirror_mode": {
    "name": "ipython",
    "version": 3
   },
   "file_extension": ".py",
   "mimetype": "text/x-python",
   "name": "python",
   "nbconvert_exporter": "python",
   "pygments_lexer": "ipython3",
   "version": "3.6.8"
  }
 },
 "nbformat": 4,
 "nbformat_minor": 2
}
